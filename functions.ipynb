{
 "cells": [
  {
   "cell_type": "markdown",
   "id": "f6075a54",
   "metadata": {},
   "source": [
    "### What is Function?\n",
    "\n",
    "* when a group of statement repeatedly required then the best is to put the statements inside a function.\n",
    "* The main advantage of fucntion is code reuseability."
   ]
  },
  {
   "cell_type": "code",
   "execution_count": 1,
   "id": "bb7e5d07",
   "metadata": {},
   "outputs": [
    {
     "name": "stdout",
     "output_type": "stream",
     "text": [
      "The sum 30\n",
      "The difference 10\n",
      "The product 200\n",
      "The sum 300\n",
      "The difference 100\n",
      "The product 20000\n",
      "The sum 3000\n",
      "The difference 1000\n",
      "The product 2000000\n"
     ]
    }
   ],
   "source": [
    "def Calculate(a, b):\n",
    "    print(f'The sum {a+b}')\n",
    "    print(f'The difference {b-a}')\n",
    "    print(f'The product {a*b}')\n",
    "\n",
    "    \n",
    "Calculate(10, 20)\n",
    "Calculate(100, 200)\n",
    "Calculate(1000, 2000)"
   ]
  },
  {
   "cell_type": "markdown",
   "id": "26700f48",
   "metadata": {},
   "source": [
    "#### 2 types of function is available in python\n",
    "\n",
    "* built in function (`id()`, `eval()`, `len()`)\n",
    "* user defined function"
   ]
  },
  {
   "cell_type": "code",
   "execution_count": 2,
   "id": "99f3db20",
   "metadata": {},
   "outputs": [
    {
     "name": "stdout",
     "output_type": "stream",
     "text": [
      "Hello Mr. X, Good Evening!!\n"
     ]
    }
   ],
   "source": [
    "# write a function to print wish message\n",
    "\n",
    "def wish(name): \n",
    "    print(f'Hello {name}, Good Evening!!')\n",
    "    \n",
    "wish('Mr. X')"
   ]
  },
  {
   "cell_type": "markdown",
   "id": "8b03d4fd",
   "metadata": {},
   "source": [
    "### Parameters"
   ]
  },
  {
   "cell_type": "code",
   "execution_count": 3,
   "id": "f31bd36b",
   "metadata": {},
   "outputs": [
    {
     "name": "stdout",
     "output_type": "stream",
     "text": [
      "30\n"
     ]
    }
   ],
   "source": [
    "# Write a function that accepts 2 paramets and return their sum\n",
    "\n",
    "def Addition(a, b):\n",
    "    return a + b\n",
    "\n",
    "print(Addition(10, 20))"
   ]
  },
  {
   "cell_type": "code",
   "execution_count": 4,
   "id": "aa98c5be",
   "metadata": {},
   "outputs": [
    {
     "name": "stdout",
     "output_type": "stream",
     "text": [
      "6\n",
      "24\n"
     ]
    }
   ],
   "source": [
    "# Print factorial of a postive number n\n",
    "\n",
    "def factorial(n):\n",
    "    if n > 1:\n",
    "        return factorial(n-1)*n\n",
    "    return 1\n",
    "\n",
    "print(factorial(3))\n",
    "print(factorial(4))"
   ]
  },
  {
   "cell_type": "code",
   "execution_count": 5,
   "id": "7a07f627",
   "metadata": {},
   "outputs": [
    {
     "name": "stdout",
     "output_type": "stream",
     "text": [
      "The factorial of 1 is 1\n",
      "The factorial of 2 is 2\n",
      "The factorial of 3 is 6\n",
      "The factorial of 4 is 24\n",
      "The factorial of 5 is 120\n"
     ]
    }
   ],
   "source": [
    "for i in range(1, 6): \n",
    "    print(f'The factorial of {i} is {factorial(i)}')"
   ]
  },
  {
   "cell_type": "markdown",
   "id": "8b869a9e",
   "metadata": {},
   "source": [
    "### Types\n",
    "\n",
    "4 types of arguments are accepted by python function."
   ]
  },
  {
   "cell_type": "code",
   "execution_count": 6,
   "id": "71ed7be0",
   "metadata": {},
   "outputs": [
    {
     "name": "stdout",
     "output_type": "stream",
     "text": [
      "300\n"
     ]
    }
   ],
   "source": [
    "# positional arguments\n",
    "\n",
    "def Position_Sub(a, b):\n",
    "    print(b + a)\n",
    "\n",
    "Position_Sub(100, 200)"
   ]
  },
  {
   "cell_type": "code",
   "execution_count": 7,
   "id": "65ff6f00",
   "metadata": {},
   "outputs": [
    {
     "name": "stdout",
     "output_type": "stream",
     "text": [
      "100\n"
     ]
    }
   ],
   "source": [
    "# keyword arguments\n",
    "\n",
    "def Keyword_Sub(a, b):\n",
    "    print(b - a)\n",
    "\n",
    "Keyword_Sub(b = 200, a = 100)"
   ]
  },
  {
   "cell_type": "code",
   "execution_count": 8,
   "id": "3de21a07",
   "metadata": {},
   "outputs": [
    {
     "name": "stdout",
     "output_type": "stream",
     "text": [
      "400\n"
     ]
    }
   ],
   "source": [
    "# default arguments\n",
    "\n",
    "def Default_Sub(a=100, b=500):\n",
    "    print(b - a)\n",
    "\n",
    "Default_Sub()"
   ]
  },
  {
   "cell_type": "code",
   "execution_count": 9,
   "id": "109e225a",
   "metadata": {},
   "outputs": [
    {
     "name": "stdout",
     "output_type": "stream",
     "text": [
      "6\n",
      "{'x': 5, 'y': 8}\n"
     ]
    }
   ],
   "source": [
    "# variable length arguments\n",
    "\n",
    "def Count_Sub(*args, **kwargs,):\n",
    "    print(sum(args))\n",
    "    print(kwargs)\n",
    "\n",
    "Count_Sub(1,2,3,x=5,y=8)"
   ]
  },
  {
   "cell_type": "markdown",
   "id": "79ae5893",
   "metadata": {},
   "source": [
    "### Case Studies"
   ]
  },
  {
   "cell_type": "code",
   "execution_count": 10,
   "id": "189e3050",
   "metadata": {},
   "outputs": [],
   "source": [
    "def caseStudyFunction(arg1, arg2, arg3=4, arg4=8):\n",
    "    print(arg1, arg2, arg3, arg4)"
   ]
  },
  {
   "cell_type": "code",
   "execution_count": 11,
   "id": "bb6d1e6a",
   "metadata": {},
   "outputs": [
    {
     "name": "stdout",
     "output_type": "stream",
     "text": [
      "3 2 4 8\n"
     ]
    }
   ],
   "source": [
    "caseStudyFunction(3, 2) "
   ]
  },
  {
   "cell_type": "code",
   "execution_count": 12,
   "id": "fc9366d2",
   "metadata": {},
   "outputs": [
    {
     "name": "stdout",
     "output_type": "stream",
     "text": [
      "10 20 30 40\n"
     ]
    }
   ],
   "source": [
    "caseStudyFunction(10, 20, 30, 40)"
   ]
  },
  {
   "cell_type": "code",
   "execution_count": 13,
   "id": "f865a718",
   "metadata": {},
   "outputs": [
    {
     "name": "stdout",
     "output_type": "stream",
     "text": [
      "25 50 4 100\n"
     ]
    }
   ],
   "source": [
    "caseStudyFunction(25, 50, arg4=100)"
   ]
  },
  {
   "cell_type": "code",
   "execution_count": 14,
   "id": "f0825a9f",
   "metadata": {},
   "outputs": [
    {
     "name": "stdout",
     "output_type": "stream",
     "text": [
      "3 4 4 2\n"
     ]
    }
   ],
   "source": [
    "caseStudyFunction(arg4=2, arg1=3, arg2=4)"
   ]
  },
  {
   "cell_type": "code",
   "execution_count": 15,
   "id": "7f318006",
   "metadata": {},
   "outputs": [
    {
     "ename": "TypeError",
     "evalue": "caseStudyFunction() missing 2 required positional arguments: 'arg1' and 'arg2'",
     "output_type": "error",
     "traceback": [
      "\u001b[0;31m---------------------------------------------------------------------------\u001b[0m",
      "\u001b[0;31mTypeError\u001b[0m                                 Traceback (most recent call last)",
      "\u001b[0;32m/tmp/ipykernel_2899/4202480951.py\u001b[0m in \u001b[0;36m<cell line: 1>\u001b[0;34m()\u001b[0m\n\u001b[0;32m----> 1\u001b[0;31m \u001b[0mcaseStudyFunction\u001b[0m\u001b[0;34m(\u001b[0m\u001b[0;34m)\u001b[0m\u001b[0;34m\u001b[0m\u001b[0;34m\u001b[0m\u001b[0m\n\u001b[0m",
      "\u001b[0;31mTypeError\u001b[0m: caseStudyFunction() missing 2 required positional arguments: 'arg1' and 'arg2'"
     ]
    }
   ],
   "source": [
    "caseStudyFunction()"
   ]
  },
  {
   "cell_type": "code",
   "execution_count": 16,
   "id": "b79e4a3b",
   "metadata": {},
   "outputs": [
    {
     "ename": "SyntaxError",
     "evalue": "positional argument follows keyword argument (1492703055.py, line 1)",
     "output_type": "error",
     "traceback": [
      "\u001b[0;36m  File \u001b[0;32m\"/tmp/ipykernel_2899/1492703055.py\"\u001b[0;36m, line \u001b[0;32m1\u001b[0m\n\u001b[0;31m    caseStudyFunction(arg3=10, arg4=20, 30, 40)\u001b[0m\n\u001b[0m                                              ^\u001b[0m\n\u001b[0;31mSyntaxError\u001b[0m\u001b[0;31m:\u001b[0m positional argument follows keyword argument\n"
     ]
    }
   ],
   "source": [
    "caseStudyFunction(arg3=10, arg4=20, 30, 40)"
   ]
  },
  {
   "cell_type": "code",
   "execution_count": 17,
   "id": "8e3d10aa",
   "metadata": {},
   "outputs": [
    {
     "ename": "TypeError",
     "evalue": "caseStudyFunction() got multiple values for argument 'arg2'",
     "output_type": "error",
     "traceback": [
      "\u001b[0;31m---------------------------------------------------------------------------\u001b[0m",
      "\u001b[0;31mTypeError\u001b[0m                                 Traceback (most recent call last)",
      "\u001b[0;32m/tmp/ipykernel_2899/2403187465.py\u001b[0m in \u001b[0;36m<cell line: 1>\u001b[0;34m()\u001b[0m\n\u001b[0;32m----> 1\u001b[0;31m \u001b[0mcaseStudyFunction\u001b[0m\u001b[0;34m(\u001b[0m\u001b[0;36m4\u001b[0m\u001b[0;34m,\u001b[0m \u001b[0;36m5\u001b[0m\u001b[0;34m,\u001b[0m \u001b[0marg2\u001b[0m\u001b[0;34m=\u001b[0m\u001b[0;36m10\u001b[0m\u001b[0;34m)\u001b[0m\u001b[0;34m\u001b[0m\u001b[0;34m\u001b[0m\u001b[0m\n\u001b[0m",
      "\u001b[0;31mTypeError\u001b[0m: caseStudyFunction() got multiple values for argument 'arg2'"
     ]
    }
   ],
   "source": [
    "caseStudyFunction(4, 5, arg2=10)"
   ]
  },
  {
   "cell_type": "code",
   "execution_count": 18,
   "id": "09dd568b",
   "metadata": {},
   "outputs": [
    {
     "ename": "TypeError",
     "evalue": "caseStudyFunction() got an unexpected keyword argument 'arg5'",
     "output_type": "error",
     "traceback": [
      "\u001b[0;31m---------------------------------------------------------------------------\u001b[0m",
      "\u001b[0;31mTypeError\u001b[0m                                 Traceback (most recent call last)",
      "\u001b[0;32m/tmp/ipykernel_2899/1802110348.py\u001b[0m in \u001b[0;36m<cell line: 1>\u001b[0;34m()\u001b[0m\n\u001b[0;32m----> 1\u001b[0;31m \u001b[0mcaseStudyFunction\u001b[0m\u001b[0;34m(\u001b[0m\u001b[0;36m4\u001b[0m\u001b[0;34m,\u001b[0m \u001b[0;36m5\u001b[0m\u001b[0;34m,\u001b[0m \u001b[0marg3\u001b[0m\u001b[0;34m=\u001b[0m\u001b[0;36m4\u001b[0m\u001b[0;34m,\u001b[0m \u001b[0marg5\u001b[0m\u001b[0;34m=\u001b[0m\u001b[0;36m10\u001b[0m\u001b[0;34m)\u001b[0m\u001b[0;34m\u001b[0m\u001b[0;34m\u001b[0m\u001b[0m\n\u001b[0m",
      "\u001b[0;31mTypeError\u001b[0m: caseStudyFunction() got an unexpected keyword argument 'arg5'"
     ]
    }
   ],
   "source": [
    "caseStudyFunction(4, 5, arg3=4, arg5=10)"
   ]
  },
  {
   "cell_type": "markdown",
   "id": "6ac3ae31",
   "metadata": {},
   "source": [
    "### Variables\n",
    "\n",
    "Python supports 2 types of variables\n",
    "\n",
    "* Global: The variables which are declared outside of function are called global variables.\n",
    "* Local: The variables which are declared inside a function are called global variables."
   ]
  },
  {
   "cell_type": "code",
   "execution_count": 19,
   "id": "c5fc07aa",
   "metadata": {},
   "outputs": [
    {
     "name": "stdout",
     "output_type": "stream",
     "text": [
      "10\n"
     ]
    }
   ],
   "source": [
    "# we can use global keyword for 2 purposes.\n",
    "  # to declare a global variable inside a function.\n",
    "  # to make global variable available to the function so that we can perform required modification.\n",
    "\n",
    "a = 5\n",
    "\n",
    "def f1():\n",
    "    global a\n",
    "    a = 10\n",
    "    print(a)\n",
    "    \n",
    "f1()"
   ]
  },
  {
   "cell_type": "code",
   "execution_count": 20,
   "id": "0f03323b",
   "metadata": {},
   "outputs": [
    {
     "name": "stdout",
     "output_type": "stream",
     "text": [
      "10\n",
      "10\n"
     ]
    }
   ],
   "source": [
    "def f2():\n",
    "    print(a) \n",
    "    print(a)\n",
    "    \n",
    "f2()"
   ]
  },
  {
   "cell_type": "code",
   "execution_count": 21,
   "id": "0ab5eeb7",
   "metadata": {},
   "outputs": [
    {
     "name": "stdout",
     "output_type": "stream",
     "text": [
      "20\n"
     ]
    }
   ],
   "source": [
    "# Declare global variable inside function\n",
    "\n",
    "def f3():\n",
    "    global a\n",
    "    a = 20\n",
    "    print(a)\n",
    "    \n",
    "f3()"
   ]
  },
  {
   "cell_type": "code",
   "execution_count": 22,
   "id": "bd365039",
   "metadata": {},
   "outputs": [
    {
     "ename": "SyntaxError",
     "evalue": "name 'aa' is used prior to global declaration (1921970327.py, line 5)",
     "output_type": "error",
     "traceback": [
      "\u001b[0;36m  File \u001b[0;32m\"/tmp/ipykernel_2899/1921970327.py\"\u001b[0;36m, line \u001b[0;32m5\u001b[0m\n\u001b[0;31m    global aa # it should be first line in function scope\u001b[0m\n\u001b[0m    ^\u001b[0m\n\u001b[0;31mSyntaxError\u001b[0m\u001b[0;31m:\u001b[0m name 'aa' is used prior to global declaration\n"
     ]
    }
   ],
   "source": [
    "aa = 777\n",
    "\n",
    "def f():\n",
    "    print(aa)\n",
    "    global aa # it should be first line in function scope\n",
    "    aa = 999\n",
    "    print(aa)\n",
    "\n",
    "f()"
   ]
  },
  {
   "cell_type": "code",
   "execution_count": 23,
   "id": "7477816f",
   "metadata": {},
   "outputs": [
    {
     "name": "stdout",
     "output_type": "stream",
     "text": [
      "777\n",
      "999\n"
     ]
    }
   ],
   "source": [
    "# by default globals() function contains all global vars in a module.\n",
    "\n",
    "# correct version\n",
    "aa = 777\n",
    "\n",
    "def f(): \n",
    "    global aa\n",
    "    print(aa) \n",
    "    aa = 999\n",
    "    print(aa)\n",
    "\n",
    "f()"
   ]
  },
  {
   "cell_type": "code",
   "execution_count": 24,
   "id": "57e268ba",
   "metadata": {},
   "outputs": [
    {
     "name": "stdout",
     "output_type": "stream",
     "text": [
      "999\n",
      "888\n"
     ]
    }
   ],
   "source": [
    "a = 888\n",
    "\n",
    "def ff():\n",
    "    a = 999\n",
    "    print(a)\n",
    "    print(globals().get('a'))\n",
    "\n",
    "ff()"
   ]
  },
  {
   "cell_type": "markdown",
   "id": "8d56eac1",
   "metadata": {},
   "source": [
    "### Lambda"
   ]
  },
  {
   "cell_type": "code",
   "execution_count": 25,
   "id": "9f737284",
   "metadata": {},
   "outputs": [
    {
     "name": "stdout",
     "output_type": "stream",
     "text": [
      "70\n"
     ]
    }
   ],
   "source": [
    "# write a lambda function for sum of number\n",
    "\n",
    "result = lambda *a : sum(a)\n",
    "print(result(10, 20, 40))"
   ]
  },
  {
   "cell_type": "code",
   "execution_count": 26,
   "id": "02c947be",
   "metadata": {},
   "outputs": [
    {
     "name": "stdout",
     "output_type": "stream",
     "text": [
      "30\n"
     ]
    }
   ],
   "source": [
    "# write a lambda function for get max\n",
    "\n",
    "result = lambda *a: max(a)\n",
    "print(result(10, 20, 30))"
   ]
  },
  {
   "cell_type": "markdown",
   "id": "855de265",
   "metadata": {},
   "source": [
    "### Map"
   ]
  },
  {
   "cell_type": "code",
   "execution_count": 27,
   "id": "cd978a7a",
   "metadata": {},
   "outputs": [
    {
     "name": "stdout",
     "output_type": "stream",
     "text": [
      "[0, 1, 4, 9, 16]\n"
     ]
    }
   ],
   "source": [
    "# Generate square of numbers\n",
    "\n",
    "mappingNumber = list(map(lambda x: x*x, range(5)))\n",
    "print(mappingNumber)"
   ]
  },
  {
   "cell_type": "code",
   "execution_count": 28,
   "id": "8fe54ca2",
   "metadata": {},
   "outputs": [
    {
     "name": "stdout",
     "output_type": "stream",
     "text": [
      "[18, 21, 24, 27, 30]\n"
     ]
    }
   ],
   "source": [
    "# map with multiple iterations\n",
    "\n",
    "mapping = list(map(lambda x, y, z: x+z+y, range(5), range(6, 11), range(12, 18)))\n",
    "print(mapping) # => [18, 21, 24, 27, 30]"
   ]
  },
  {
   "cell_type": "markdown",
   "id": "eeccebd1",
   "metadata": {},
   "source": [
    "### Filter"
   ]
  },
  {
   "cell_type": "code",
   "execution_count": 29,
   "id": "a513e882",
   "metadata": {},
   "outputs": [
    {
     "name": "stdout",
     "output_type": "stream",
     "text": [
      "[0, 2, 4, 6, 8, 10]\n",
      "(1, 3, 5, 7, 9)\n"
     ]
    }
   ],
   "source": [
    "# filter even odd\n",
    "\n",
    "filteredEven = filter(lambda x: (x%2) == 0, range(11))\n",
    "filteredOdd = filter(lambda x: (x%2) != 0, range(11))\n",
    "print(list(filteredEven))\n",
    "print(tuple(filteredOdd))"
   ]
  },
  {
   "cell_type": "code",
   "execution_count": 30,
   "id": "e8b5eec3",
   "metadata": {},
   "outputs": [
    {
     "name": "stdout",
     "output_type": "stream",
     "text": [
      "(3, 9)\n"
     ]
    }
   ],
   "source": [
    "# number which is divisble by 3 and odd\n",
    "\n",
    "filtered = tuple(filter(lambda x: (x % 3 == 0 and x % 2 != 0), range(11)))\n",
    "print(filtered)"
   ]
  },
  {
   "cell_type": "markdown",
   "id": "b6796420",
   "metadata": {},
   "source": [
    "### Reduce"
   ]
  },
  {
   "cell_type": "code",
   "execution_count": 31,
   "id": "1d52561d",
   "metadata": {},
   "outputs": [
    {
     "name": "stdout",
     "output_type": "stream",
     "text": [
      "Hello World\n"
     ]
    }
   ],
   "source": [
    "from functools import reduce\n",
    "\n",
    "x = ['Hello ', 'World']\n",
    "print(reduce(lambda x, y: x+y, x))"
   ]
  },
  {
   "cell_type": "code",
   "execution_count": 32,
   "id": "8af82366",
   "metadata": {},
   "outputs": [
    {
     "name": "stdout",
     "output_type": "stream",
     "text": [
      "5050\n"
     ]
    }
   ],
   "source": [
    "# sum of first 100 numbers\n",
    "\n",
    "sumOfNumbers = reduce(lambda x, y: x+y, range(1, 101))\n",
    "print(sumOfNumbers)"
   ]
  },
  {
   "cell_type": "markdown",
   "id": "48f2d1e7",
   "metadata": {},
   "source": [
    "### Conculsion\n",
    "\n",
    "#### Important Conclusion about `**`, `*`\n",
    "\n",
    "* main difference between *args and **kwargs\n",
    "  * *args is variable length arguments and return `()`\n",
    "  * **kwargs is variable keyword arguments and return `{}`\n",
    "  \n",
    "after variable length argumentss if we take any args we've to call them explicitly as keyword args otherwise `SyntaxError`."
   ]
  },
  {
   "cell_type": "code",
   "execution_count": 33,
   "id": "e2966beb",
   "metadata": {},
   "outputs": [
    {
     "name": "stdout",
     "output_type": "stream",
     "text": [
      "(10, 20, 30)\n",
      "40\n"
     ]
    }
   ],
   "source": [
    "# def f1(x, *y): => valid  (1st value would be x)\n",
    "\n",
    "def f1(*x, y):\n",
    "    print(x)\n",
    "    print(y)\n",
    "\n",
    "f1(10, 20, 30, y=40)"
   ]
  },
  {
   "cell_type": "code",
   "execution_count": 34,
   "id": "c8b2ff62",
   "metadata": {},
   "outputs": [
    {
     "ename": "SyntaxError",
     "evalue": "invalid syntax (3247622008.py, line 3)",
     "output_type": "error",
     "traceback": [
      "\u001b[0;36m  File \u001b[0;32m\"/tmp/ipykernel_2899/3247622008.py\"\u001b[0;36m, line \u001b[0;32m3\u001b[0m\n\u001b[0;31m    def f2(*x, *y):\u001b[0m\n\u001b[0m               ^\u001b[0m\n\u001b[0;31mSyntaxError\u001b[0m\u001b[0;31m:\u001b[0m invalid syntax\n"
     ]
    }
   ],
   "source": [
    "# we can't take more than one variable args count\n",
    "\n",
    "def f2(*x, *y):\n",
    "    print(x)\n",
    "    print(y)\n",
    "\n",
    "f2(10, 20, 30, 40)"
   ]
  },
  {
   "cell_type": "code",
   "execution_count": 35,
   "id": "13b5ce38",
   "metadata": {},
   "outputs": [
    {
     "ename": "SyntaxError",
     "evalue": "invalid syntax (2569541899.py, line 3)",
     "output_type": "error",
     "traceback": [
      "\u001b[0;36m  File \u001b[0;32m\"/tmp/ipykernel_2899/2569541899.py\"\u001b[0;36m, line \u001b[0;32m3\u001b[0m\n\u001b[0;31m    def f3(**x, y):\u001b[0m\n\u001b[0m                ^\u001b[0m\n\u001b[0;31mSyntaxError\u001b[0m\u001b[0;31m:\u001b[0m invalid syntax\n"
     ]
    }
   ],
   "source": [
    "# SyntaxError\n",
    "\n",
    "def f3(**x, y):\n",
    "    print(x)\n",
    "    print(y)\n",
    "\n",
    "f3(2, x=5)"
   ]
  },
  {
   "cell_type": "code",
   "execution_count": 36,
   "id": "0aca57dc",
   "metadata": {},
   "outputs": [
    {
     "ename": "SyntaxError",
     "evalue": "invalid syntax (2710492158.py, line 3)",
     "output_type": "error",
     "traceback": [
      "\u001b[0;36m  File \u001b[0;32m\"/tmp/ipykernel_2899/2710492158.py\"\u001b[0;36m, line \u001b[0;32m3\u001b[0m\n\u001b[0;31m    def f4(**x, **y):\u001b[0m\n\u001b[0m                ^\u001b[0m\n\u001b[0;31mSyntaxError\u001b[0m\u001b[0;31m:\u001b[0m invalid syntax\n"
     ]
    }
   ],
   "source": [
    "# SyntaxError\n",
    "\n",
    "def f4(**x, **y):\n",
    "    print(x)\n",
    "    print(y)\n",
    "\n",
    "f4(5, 6)"
   ]
  },
  {
   "cell_type": "code",
   "execution_count": 37,
   "id": "cea5eaa0",
   "metadata": {},
   "outputs": [
    {
     "ename": "SyntaxError",
     "evalue": "invalid syntax (3745125511.py, line 4)",
     "output_type": "error",
     "traceback": [
      "\u001b[0;36m  File \u001b[0;32m\"/tmp/ipykernel_2899/3745125511.py\"\u001b[0;36m, line \u001b[0;32m4\u001b[0m\n\u001b[0;31m    def f5(**x, *y):\u001b[0m\n\u001b[0m                ^\u001b[0m\n\u001b[0;31mSyntaxError\u001b[0m\u001b[0;31m:\u001b[0m invalid syntax\n"
     ]
    }
   ],
   "source": [
    "# def f1(*x, **y): => valid\n",
    "# after keyword args we can't take positional\n",
    "\n",
    "def f5(**x, *y):\n",
    "    print(x)\n",
    "    print(y)\n",
    "\n",
    "f5()"
   ]
  }
 ],
 "metadata": {
  "kernelspec": {
   "display_name": "Python 3 (system-wide)",
   "language": "python",
   "name": "python3"
  },
  "language_info": {
   "codemirror_mode": {
    "name": "ipython",
    "version": 3
   },
   "file_extension": ".py",
   "mimetype": "text/x-python",
   "name": "python",
   "nbconvert_exporter": "python",
   "pygments_lexer": "ipython3",
   "version": "3.10.6"
  }
 },
 "nbformat": 4,
 "nbformat_minor": 5
}
